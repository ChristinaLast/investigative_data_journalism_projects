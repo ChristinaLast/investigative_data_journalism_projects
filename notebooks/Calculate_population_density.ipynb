{
 "cells": [
  {
   "cell_type": "markdown",
   "id": "495d979c",
   "metadata": {},
   "source": [
    "# Calculating population density\n",
    "\n",
    "We want to know how many individuals are exposed to flares at each of the study regions.\n",
    "\n",
    "To do this we want to:\n",
    "- read in all population data from the study regions\n",
    "- calculate the total population density within each of the study regions\n",
    "-  using literatiure select an appropriate threshhold for AOD to use as a cutoff point for the \"high levels of pollution\"\n",
    "- from this calculate total no. of people and % of people in area affected by high levels of pollution"
   ]
  },
  {
   "cell_type": "markdown",
   "id": "7bdb43c8",
   "metadata": {},
   "source": [
    "###  Literature\n",
    "Taking a look at this articles:\n",
    "- [What Can Affect AOD–PM2.5 Association?](https://www.ncbi.nlm.nih.gov/pmc/articles/PMC2854780/)\n",
    "- [An empirical relationship between PM2.5 and aerosol optical depth in Delhi Metropolitan](https://www.ncbi.nlm.nih.gov/pmc/articles/PMC3237057/)\n",
    "  - \"1% change in AOD explains 0.52±0.202% and 0.39±0.15% change in PM2.5 monitored within ±45 and 150 min intervals of AOD data.\"\n",
    "    - [Table with PM2.5 to AOD conversions (for Dehli](https://www.ncbi.nlm.nih.gov/pmc/articles/PMC3237057/table/T1/)\n",
    "      - PM2.5 (μg m−3) 30.5 = AOD (5 km) 172.1 "
   ]
  },
  {
   "cell_type": "code",
   "execution_count": 24,
   "id": "b8ab5941",
   "metadata": {},
   "outputs": [],
   "source": [
    "import os\n",
    "\n",
    "# Reading in all population data\n",
    "import geopandas as gpd\n",
    "base_dir = os.path.dirname(os.getcwd())"
   ]
  },
  {
   "cell_type": "code",
   "execution_count": 54,
   "id": "2eabc388",
   "metadata": {},
   "outputs": [],
   "source": [
    "gwer_road = gpd.read_file(f\"{base_dir}/pop_dens_data/polygon_geojson/POP_DEN_gwer_polygon.geojson\")\n",
    "kalak = gpd.read_file(f\"{base_dir}/pop_dens_data/polygon_geojson/POP_DEN_kalak_polygon.geojson\")\n",
    "lalish = gpd.read_file(f\"{base_dir}/pop_dens_data/polygon_geojson/POP_DEN_lalish_polygon.geojson\")"
   ]
  },
  {
   "cell_type": "code",
   "execution_count": 55,
   "id": "7e948c06",
   "metadata": {},
   "outputs": [
    {
     "data": {
      "text/html": [
       "<div>\n",
       "<style scoped>\n",
       "    .dataframe tbody tr th:only-of-type {\n",
       "        vertical-align: middle;\n",
       "    }\n",
       "\n",
       "    .dataframe tbody tr th {\n",
       "        vertical-align: top;\n",
       "    }\n",
       "\n",
       "    .dataframe thead th {\n",
       "        text-align: right;\n",
       "    }\n",
       "</style>\n",
       "<table border=\"1\" class=\"dataframe\">\n",
       "  <thead>\n",
       "    <tr style=\"text-align: right;\">\n",
       "      <th></th>\n",
       "      <th>VALUE</th>\n",
       "      <th>geometry</th>\n",
       "    </tr>\n",
       "  </thead>\n",
       "  <tbody>\n",
       "    <tr>\n",
       "      <th>0</th>\n",
       "      <td>441.916229</td>\n",
       "      <td>MULTIPOLYGON (((43.78208 36.24139, 43.78208 36...</td>\n",
       "    </tr>\n",
       "    <tr>\n",
       "      <th>1</th>\n",
       "      <td>419.327271</td>\n",
       "      <td>MULTIPOLYGON (((43.78547 36.24193, 43.78977 36...</td>\n",
       "    </tr>\n",
       "    <tr>\n",
       "      <th>2</th>\n",
       "      <td>511.886505</td>\n",
       "      <td>MULTIPOLYGON (((43.74875 36.23515, 43.74875 36...</td>\n",
       "    </tr>\n",
       "    <tr>\n",
       "      <th>3</th>\n",
       "      <td>441.208771</td>\n",
       "      <td>MULTIPOLYGON (((43.75148 36.23655, 43.75708 36...</td>\n",
       "    </tr>\n",
       "    <tr>\n",
       "      <th>4</th>\n",
       "      <td>245.390091</td>\n",
       "      <td>MULTIPOLYGON (((43.76542 36.23875, 43.76542 36...</td>\n",
       "    </tr>\n",
       "  </tbody>\n",
       "</table>\n",
       "</div>"
      ],
      "text/plain": [
       "        VALUE                                           geometry\n",
       "0  441.916229  MULTIPOLYGON (((43.78208 36.24139, 43.78208 36...\n",
       "1  419.327271  MULTIPOLYGON (((43.78547 36.24193, 43.78977 36...\n",
       "2  511.886505  MULTIPOLYGON (((43.74875 36.23515, 43.74875 36...\n",
       "3  441.208771  MULTIPOLYGON (((43.75148 36.23655, 43.75708 36...\n",
       "4  245.390091  MULTIPOLYGON (((43.76542 36.23875, 43.76542 36..."
      ]
     },
     "execution_count": 55,
     "metadata": {},
     "output_type": "execute_result"
    }
   ],
   "source": [
    "gwer_road.head()"
   ]
  },
  {
   "cell_type": "code",
   "execution_count": 56,
   "id": "e7c7279f",
   "metadata": {},
   "outputs": [
    {
     "data": {
      "text/plain": [
       "121183.42779943"
      ]
     },
     "execution_count": 56,
     "metadata": {},
     "output_type": "execute_result"
    }
   ],
   "source": [
    "sum(gwer_road[\"VALUE\"])"
   ]
  },
  {
   "cell_type": "code",
   "execution_count": 57,
   "id": "662d6ca9",
   "metadata": {},
   "outputs": [
    {
     "data": {
      "text/plain": [
       "121183.42779943"
      ]
     },
     "execution_count": 57,
     "metadata": {},
     "output_type": "execute_result"
    }
   ],
   "source": [
    "sum(gwer_road[\"VALUE\"])"
   ]
  },
  {
   "cell_type": "code",
   "execution_count": 58,
   "id": "94bea87f",
   "metadata": {},
   "outputs": [
    {
     "data": {
      "text/plain": [
       "219058.2630378402"
      ]
     },
     "execution_count": 58,
     "metadata": {},
     "output_type": "execute_result"
    }
   ],
   "source": [
    "sum(kalak[\"VALUE\"])"
   ]
  },
  {
   "cell_type": "code",
   "execution_count": 59,
   "id": "a52924d9",
   "metadata": {},
   "outputs": [
    {
     "data": {
      "text/plain": [
       "40925.76306725002"
      ]
     },
     "execution_count": 59,
     "metadata": {},
     "output_type": "execute_result"
    }
   ],
   "source": [
    "sum(lalish[\"VALUE\"])"
   ]
  },
  {
   "cell_type": "markdown",
   "id": "2ff34423",
   "metadata": {},
   "source": [
    "Next we want to read in the `AOD` data which quanitifies atmospheric haziness and gives us an idea of the level of pollution in the atmosphere.\n"
   ]
  },
  {
   "cell_type": "code",
   "execution_count": 60,
   "id": "fc285389",
   "metadata": {},
   "outputs": [],
   "source": [
    "gwer_road_aod = gpd.read_file(f\"{base_dir}/aod_data/aod_polygons/AOD_gwer_polygon.geojson\")\n",
    "kalak_aod = gpd.read_file(f\"{base_dir}/aod_data/aod_polygons/AOD_kalak_polygon.geojson\")\n",
    "lalish_aod = gpd.read_file(f\"{base_dir}/aod_data/aod_polygons/AOD_lalish_polygon.geojson\")"
   ]
  },
  {
   "cell_type": "markdown",
   "id": "fd131965",
   "metadata": {},
   "source": [
    "In order to understand the exposure to `AOD` we need to count the population exposed to `AOD` concentrations above an average of the following threshhold:\n",
    "- (170.2/30.5 μg/m3 )*5 μg/m3  = 27 μg/m3  [source here](https://www.ersnet.org/wp-content/uploads/2021/10/WHO-AQG_Joint-Society-Statement_1st-UPDATE-13th-October.pdf)"
   ]
  },
  {
   "cell_type": "code",
   "execution_count": 71,
   "id": "6193370a",
   "metadata": {},
   "outputs": [],
   "source": [
    "gwer_road_mean_aod = gwer_road_aod.groupby([\"longitude\", \"latitude\", \"VALUE\"])[\"Optical_Depth_047\"].mean().reset_index()\n",
    "\n",
    "kalak_mean_aod = kalak_aod.groupby([\"longitude\", \"latitude\", \"VALUE\"])[\"Optical_Depth_047\"].mean().reset_index()\n",
    "\n",
    "lalish_mean_aod = lalish_aod.groupby([\"longitude\", \"latitude\", \"VALUE\"])[\"Optical_Depth_047\"].mean().reset_index()"
   ]
  },
  {
   "cell_type": "markdown",
   "id": "64294c61",
   "metadata": {},
   "source": [
    "Calculate the percentage of population exposed to rates of PM2.5 (using the AOD-> PM2.5 conversion) exceeding the WHO annual mean concentrations recommendations."
   ]
  },
  {
   "cell_type": "code",
   "execution_count": 65,
   "id": "f3c011d5",
   "metadata": {},
   "outputs": [],
   "source": [
    "gwer_road_harmful_aod = gwer_road_mean_aod[gwer_road_mean_aod[\"Optical_Depth_047\"]>175]\n",
    "kalak_harmful_aod = kalak_mean_aod[kalak_mean_aod[\"Optical_Depth_047\"]>175]\n",
    "lalish_harmful_aod = lalish_mean_aod[lalish_mean_aod [\"Optical_Depth_047\"]>175]"
   ]
  },
  {
   "cell_type": "code",
   "execution_count": 82,
   "id": "f498b838",
   "metadata": {},
   "outputs": [
    {
     "data": {
      "text/plain": [
       "1.0"
      ]
     },
     "execution_count": 82,
     "metadata": {},
     "output_type": "execute_result"
    }
   ],
   "source": [
    "sum(gwer_road_harmful_aod[\"VALUE\"])/sum(gwer_road_mean_aod['VALUE'])"
   ]
  },
  {
   "cell_type": "code",
   "execution_count": 83,
   "id": "736d7442",
   "metadata": {},
   "outputs": [
    {
     "data": {
      "text/plain": [
       "1.0"
      ]
     },
     "execution_count": 83,
     "metadata": {},
     "output_type": "execute_result"
    }
   ],
   "source": [
    "sum(kalak_harmful_aod[\"VALUE\"])/sum(kalak_mean_aod['VALUE'])"
   ]
  },
  {
   "cell_type": "code",
   "execution_count": 81,
   "id": "8460130d",
   "metadata": {},
   "outputs": [
    {
     "data": {
      "text/plain": [
       "0.9951336173308959"
      ]
     },
     "execution_count": 81,
     "metadata": {},
     "output_type": "execute_result"
    }
   ],
   "source": [
    "sum(lalish_harmful_aod[\"VALUE\"])/sum(lalish_mean_aod['VALUE'])"
   ]
  },
  {
   "cell_type": "markdown",
   "id": "fe3f1ef2",
   "metadata": {},
   "source": [
    "Exposure rates as follow:\n",
    "- 100% of kalak population above WHO recommended levels of annual mean concentrations of PM2.5\n",
    "- 100% of gwer road population above WHO recommended levels of annual mean concentrations of PM2.5\n",
    "- 99.5% of lalish population above WHO recommended levels of annual mean concentrations of PM2.5"
   ]
  },
  {
   "cell_type": "markdown",
   "id": "2283f642",
   "metadata": {},
   "source": [
    "Calculating overall average to get figure for no. of times greater than the WHO recommended limit is for each study region, assuming that `(170.2 AOD / 30.5 μg/m3 ) * 5 μg/m3 (WHO limit) = 27 AOD`"
   ]
  },
  {
   "cell_type": "code",
   "execution_count": 93,
   "id": "4e58980f",
   "metadata": {},
   "outputs": [
    {
     "data": {
      "text/plain": [
       "7.154448667905098"
      ]
     },
     "execution_count": 93,
     "metadata": {},
     "output_type": "execute_result"
    }
   ],
   "source": [
    "gwer_road_aod[\"Optical_Depth_047\"].mean()/27"
   ]
  },
  {
   "cell_type": "code",
   "execution_count": 94,
   "id": "8cad3d89",
   "metadata": {},
   "outputs": [
    {
     "data": {
      "text/plain": [
       "7.161162383289336"
      ]
     },
     "execution_count": 94,
     "metadata": {},
     "output_type": "execute_result"
    }
   ],
   "source": [
    "kalak_aod[\"Optical_Depth_047\"].mean()/27"
   ]
  },
  {
   "cell_type": "code",
   "execution_count": 95,
   "id": "d1bece2d",
   "metadata": {},
   "outputs": [
    {
     "data": {
      "text/plain": [
       "7.557843945296876"
      ]
     },
     "execution_count": 95,
     "metadata": {},
     "output_type": "execute_result"
    }
   ],
   "source": [
    "lalish_aod[\"Optical_Depth_047\"].mean()/27"
   ]
  },
  {
   "cell_type": "markdown",
   "id": "6854e345",
   "metadata": {},
   "source": [
    "Calculating overall average to get figure for no. of times greater than the WHO recommended limit is for each study region, assuming that `(170.2 AOD / 30.5 μg/m3 ) * 5 μg/m3 (WHO limit) = 27 AOD`\n",
    "- gwer_road = 7.15 x WHO Limit\n",
    "- Kalak = 7.16 x WHO Limit\n",
    "- lalish = 7.56 x WHO Limit"
   ]
  },
  {
   "cell_type": "code",
   "execution_count": null,
   "id": "936fb13e",
   "metadata": {},
   "outputs": [],
   "source": []
  }
 ],
 "metadata": {
  "kernelspec": {
   "display_name": "pollution_analysis",
   "language": "python",
   "name": "pollution_analysis"
  },
  "language_info": {
   "codemirror_mode": {
    "name": "ipython",
    "version": 3
   },
   "file_extension": ".py",
   "mimetype": "text/x-python",
   "name": "python",
   "nbconvert_exporter": "python",
   "pygments_lexer": "ipython3",
   "version": "3.8.8"
  }
 },
 "nbformat": 4,
 "nbformat_minor": 5
}
