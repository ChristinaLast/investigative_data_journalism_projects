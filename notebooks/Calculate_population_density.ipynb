{
 "cells": [
  {
   "cell_type": "markdown",
   "id": "495d979c",
   "metadata": {},
   "source": [
    "# Calculating population density\n",
    "\n",
    "We want to know how many individuals are exposed to flares at each of the study regions.\n",
    "\n",
    "To do this we want to:\n",
    "- read in all population data from the study regions\n",
    "- calculate the total population density within each of the study regions\n",
    "-  using literatiure select an appropriate threshhold for AOD to use as a cutoff point for the \"high levels of pollution\"\n",
    "- from this calculate total no. of people and % of people in area affected by high levels of pollution"
   ]
  },
  {
   "cell_type": "code",
   "execution_count": 24,
   "id": "b8ab5941",
   "metadata": {},
   "outputs": [],
   "source": [
    "import os\n",
    "\n",
    "# Reading in all population data\n",
    "import geopandas as gpd\n",
    "base_dir = os.path.dirname(os.getcwd())"
   ]
  },
  {
   "cell_type": "code",
   "execution_count": 54,
   "id": "2eabc388",
   "metadata": {},
   "outputs": [],
   "source": [
    "gwer_road = gpd.read_file(f\"{base_dir}/pop_dens_data/polygon_geojson/POP_DEN_gwer_polygon.geojson\")\n",
    "kalak = gpd.read_file(f\"{base_dir}/pop_dens_data/polygon_geojson/POP_DEN_kalak_polygon.geojson\")\n",
    "lalish = gpd.read_file(f\"{base_dir}/pop_dens_data/polygon_geojson/POP_DEN_lalish_polygon.geojson\")"
   ]
  },
  {
   "cell_type": "code",
   "execution_count": 55,
   "id": "7e948c06",
   "metadata": {},
   "outputs": [
    {
     "data": {
      "text/html": [
       "<div>\n",
       "<style scoped>\n",
       "    .dataframe tbody tr th:only-of-type {\n",
       "        vertical-align: middle;\n",
       "    }\n",
       "\n",
       "    .dataframe tbody tr th {\n",
       "        vertical-align: top;\n",
       "    }\n",
       "\n",
       "    .dataframe thead th {\n",
       "        text-align: right;\n",
       "    }\n",
       "</style>\n",
       "<table border=\"1\" class=\"dataframe\">\n",
       "  <thead>\n",
       "    <tr style=\"text-align: right;\">\n",
       "      <th></th>\n",
       "      <th>VALUE</th>\n",
       "      <th>geometry</th>\n",
       "    </tr>\n",
       "  </thead>\n",
       "  <tbody>\n",
       "    <tr>\n",
       "      <th>0</th>\n",
       "      <td>441.916229</td>\n",
       "      <td>MULTIPOLYGON (((43.78208 36.24139, 43.78208 36...</td>\n",
       "    </tr>\n",
       "    <tr>\n",
       "      <th>1</th>\n",
       "      <td>419.327271</td>\n",
       "      <td>MULTIPOLYGON (((43.78547 36.24193, 43.78977 36...</td>\n",
       "    </tr>\n",
       "    <tr>\n",
       "      <th>2</th>\n",
       "      <td>511.886505</td>\n",
       "      <td>MULTIPOLYGON (((43.74875 36.23515, 43.74875 36...</td>\n",
       "    </tr>\n",
       "    <tr>\n",
       "      <th>3</th>\n",
       "      <td>441.208771</td>\n",
       "      <td>MULTIPOLYGON (((43.75148 36.23655, 43.75708 36...</td>\n",
       "    </tr>\n",
       "    <tr>\n",
       "      <th>4</th>\n",
       "      <td>245.390091</td>\n",
       "      <td>MULTIPOLYGON (((43.76542 36.23875, 43.76542 36...</td>\n",
       "    </tr>\n",
       "  </tbody>\n",
       "</table>\n",
       "</div>"
      ],
      "text/plain": [
       "        VALUE                                           geometry\n",
       "0  441.916229  MULTIPOLYGON (((43.78208 36.24139, 43.78208 36...\n",
       "1  419.327271  MULTIPOLYGON (((43.78547 36.24193, 43.78977 36...\n",
       "2  511.886505  MULTIPOLYGON (((43.74875 36.23515, 43.74875 36...\n",
       "3  441.208771  MULTIPOLYGON (((43.75148 36.23655, 43.75708 36...\n",
       "4  245.390091  MULTIPOLYGON (((43.76542 36.23875, 43.76542 36..."
      ]
     },
     "execution_count": 55,
     "metadata": {},
     "output_type": "execute_result"
    }
   ],
   "source": [
    "gwer_road.head()"
   ]
  },
  {
   "cell_type": "code",
   "execution_count": 56,
   "id": "e7c7279f",
   "metadata": {},
   "outputs": [
    {
     "data": {
      "text/plain": [
       "121183.42779943"
      ]
     },
     "execution_count": 56,
     "metadata": {},
     "output_type": "execute_result"
    }
   ],
   "source": [
    "sum(gwer_road[\"VALUE\"])"
   ]
  },
  {
   "cell_type": "code",
   "execution_count": 57,
   "id": "662d6ca9",
   "metadata": {},
   "outputs": [
    {
     "data": {
      "text/plain": [
       "121183.42779943"
      ]
     },
     "execution_count": 57,
     "metadata": {},
     "output_type": "execute_result"
    }
   ],
   "source": [
    "sum(gwer_road[\"VALUE\"])"
   ]
  },
  {
   "cell_type": "code",
   "execution_count": 58,
   "id": "94bea87f",
   "metadata": {},
   "outputs": [
    {
     "data": {
      "text/plain": [
       "219058.2630378402"
      ]
     },
     "execution_count": 58,
     "metadata": {},
     "output_type": "execute_result"
    }
   ],
   "source": [
    "sum(kalak[\"VALUE\"])"
   ]
  },
  {
   "cell_type": "code",
   "execution_count": 59,
   "id": "a52924d9",
   "metadata": {},
   "outputs": [
    {
     "data": {
      "text/plain": [
       "40925.76306725002"
      ]
     },
     "execution_count": 59,
     "metadata": {},
     "output_type": "execute_result"
    }
   ],
   "source": [
    "sum(lalish[\"VALUE\"])"
   ]
  },
  {
   "cell_type": "markdown",
   "id": "2ff34423",
   "metadata": {},
   "source": [
    "Next we want to read in the `AOD` data which quanitifies atmospheric haziness and gives us an idea of the level of pollution in the atmosphere.\n"
   ]
  },
  {
   "cell_type": "code",
   "execution_count": 60,
   "id": "fc285389",
   "metadata": {},
   "outputs": [],
   "source": [
    "gwer_road_aod = gpd.read_file(f\"{base_dir}/aod_data/aod_polygons/AOD_gwer_polygon.geojson\")\n",
    "kalak_aod = gpd.read_file(f\"{base_dir}/aod_data/aod_polygons/AOD_kalak_polygon.geojson\")\n",
    "lalish_aod = gpd.read_file(f\"{base_dir}/aod_data/aod_polygons/AOD_lalish_polygon.geojson\")"
   ]
  },
  {
   "cell_type": "markdown",
   "id": "fd131965",
   "metadata": {},
   "source": [
    "In order to understand the exposure to `AOD` we need to count the population exposed to `AOD` concentrations above an average of the following threshhold:\n",
    "- PM2.5 (μg m−3) 30.5 = AOD (5 km) 172.1"
   ]
  },
  {
   "cell_type": "code",
   "execution_count": 61,
   "id": "a4b70df2",
   "metadata": {},
   "outputs": [
    {
     "data": {
      "text/html": [
       "<div>\n",
       "<style scoped>\n",
       "    .dataframe tbody tr th:only-of-type {\n",
       "        vertical-align: middle;\n",
       "    }\n",
       "\n",
       "    .dataframe tbody tr th {\n",
       "        vertical-align: top;\n",
       "    }\n",
       "\n",
       "    .dataframe thead th {\n",
       "        text-align: right;\n",
       "    }\n",
       "</style>\n",
       "<table border=\"1\" class=\"dataframe\">\n",
       "  <thead>\n",
       "    <tr style=\"text-align: right;\">\n",
       "      <th></th>\n",
       "      <th>VALUE</th>\n",
       "      <th>index_right</th>\n",
       "      <th>longitude</th>\n",
       "      <th>latitude</th>\n",
       "      <th>month_year</th>\n",
       "      <th>Optical_Depth_047</th>\n",
       "      <th>Optical_Depth_055</th>\n",
       "      <th>Date</th>\n",
       "      <th>geometry</th>\n",
       "    </tr>\n",
       "  </thead>\n",
       "  <tbody>\n",
       "    <tr>\n",
       "      <th>0</th>\n",
       "      <td>441.916229</td>\n",
       "      <td>29694</td>\n",
       "      <td>43.781776</td>\n",
       "      <td>36.241317</td>\n",
       "      <td>2019-07</td>\n",
       "      <td>288.536585</td>\n",
       "      <td>213.317073</td>\n",
       "      <td>2019-07-01T00:00:00</td>\n",
       "      <td>MULTIPOLYGON (((43.78208 36.24139, 43.78208 36...</td>\n",
       "    </tr>\n",
       "    <tr>\n",
       "      <th>1</th>\n",
       "      <td>441.916229</td>\n",
       "      <td>29696</td>\n",
       "      <td>43.781776</td>\n",
       "      <td>36.241317</td>\n",
       "      <td>2019-09</td>\n",
       "      <td>202.415385</td>\n",
       "      <td>149.692308</td>\n",
       "      <td>2019-09-01T00:00:00</td>\n",
       "      <td>MULTIPOLYGON (((43.78208 36.24139, 43.78208 36...</td>\n",
       "    </tr>\n",
       "    <tr>\n",
       "      <th>2</th>\n",
       "      <td>441.916229</td>\n",
       "      <td>29697</td>\n",
       "      <td>43.781776</td>\n",
       "      <td>36.241317</td>\n",
       "      <td>2019-10</td>\n",
       "      <td>164.925000</td>\n",
       "      <td>121.975000</td>\n",
       "      <td>2019-10-01T00:00:00</td>\n",
       "      <td>MULTIPOLYGON (((43.78208 36.24139, 43.78208 36...</td>\n",
       "    </tr>\n",
       "    <tr>\n",
       "      <th>3</th>\n",
       "      <td>441.916229</td>\n",
       "      <td>29698</td>\n",
       "      <td>43.781776</td>\n",
       "      <td>36.241317</td>\n",
       "      <td>2019-11</td>\n",
       "      <td>114.725490</td>\n",
       "      <td>84.823529</td>\n",
       "      <td>2019-11-01T00:00:00</td>\n",
       "      <td>MULTIPOLYGON (((43.78208 36.24139, 43.78208 36...</td>\n",
       "    </tr>\n",
       "    <tr>\n",
       "      <th>4</th>\n",
       "      <td>441.916229</td>\n",
       "      <td>29709</td>\n",
       "      <td>43.781776</td>\n",
       "      <td>36.241317</td>\n",
       "      <td>2020-10</td>\n",
       "      <td>175.074074</td>\n",
       "      <td>129.462963</td>\n",
       "      <td>2020-10-01T00:00:00</td>\n",
       "      <td>MULTIPOLYGON (((43.78208 36.24139, 43.78208 36...</td>\n",
       "    </tr>\n",
       "    <tr>\n",
       "      <th>...</th>\n",
       "      <td>...</td>\n",
       "      <td>...</td>\n",
       "      <td>...</td>\n",
       "      <td>...</td>\n",
       "      <td>...</td>\n",
       "      <td>...</td>\n",
       "      <td>...</td>\n",
       "      <td>...</td>\n",
       "      <td>...</td>\n",
       "    </tr>\n",
       "    <tr>\n",
       "      <th>22809</th>\n",
       "      <td>211.958817</td>\n",
       "      <td>31625</td>\n",
       "      <td>43.799922</td>\n",
       "      <td>36.024374</td>\n",
       "      <td>2021-10</td>\n",
       "      <td>144.604651</td>\n",
       "      <td>106.883721</td>\n",
       "      <td>2021-10-01T00:00:00</td>\n",
       "      <td>MULTIPOLYGON (((43.79875 36.02403, 43.79875 36...</td>\n",
       "    </tr>\n",
       "    <tr>\n",
       "      <th>22810</th>\n",
       "      <td>211.958817</td>\n",
       "      <td>31626</td>\n",
       "      <td>43.799922</td>\n",
       "      <td>36.024374</td>\n",
       "      <td>2021-11</td>\n",
       "      <td>124.611111</td>\n",
       "      <td>92.111111</td>\n",
       "      <td>2021-11-01T00:00:00</td>\n",
       "      <td>MULTIPOLYGON (((43.79875 36.02403, 43.79875 36...</td>\n",
       "    </tr>\n",
       "    <tr>\n",
       "      <th>22811</th>\n",
       "      <td>211.958817</td>\n",
       "      <td>31627</td>\n",
       "      <td>43.799922</td>\n",
       "      <td>36.024374</td>\n",
       "      <td>2021-12</td>\n",
       "      <td>120.307692</td>\n",
       "      <td>88.923077</td>\n",
       "      <td>2021-12-01T00:00:00</td>\n",
       "      <td>MULTIPOLYGON (((43.79875 36.02403, 43.79875 36...</td>\n",
       "    </tr>\n",
       "    <tr>\n",
       "      <th>22812</th>\n",
       "      <td>211.958817</td>\n",
       "      <td>31628</td>\n",
       "      <td>43.799922</td>\n",
       "      <td>36.024374</td>\n",
       "      <td>2022-01</td>\n",
       "      <td>180.607143</td>\n",
       "      <td>133.464286</td>\n",
       "      <td>2022-01-01T00:00:00</td>\n",
       "      <td>MULTIPOLYGON (((43.79875 36.02403, 43.79875 36...</td>\n",
       "    </tr>\n",
       "    <tr>\n",
       "      <th>22813</th>\n",
       "      <td>211.958817</td>\n",
       "      <td>31629</td>\n",
       "      <td>43.799922</td>\n",
       "      <td>36.024374</td>\n",
       "      <td>2022-02</td>\n",
       "      <td>162.731707</td>\n",
       "      <td>120.341463</td>\n",
       "      <td>2022-02-01T00:00:00</td>\n",
       "      <td>MULTIPOLYGON (((43.79875 36.02403, 43.79875 36...</td>\n",
       "    </tr>\n",
       "  </tbody>\n",
       "</table>\n",
       "<p>22814 rows × 9 columns</p>\n",
       "</div>"
      ],
      "text/plain": [
       "            VALUE  index_right  longitude   latitude month_year  \\\n",
       "0      441.916229        29694  43.781776  36.241317    2019-07   \n",
       "1      441.916229        29696  43.781776  36.241317    2019-09   \n",
       "2      441.916229        29697  43.781776  36.241317    2019-10   \n",
       "3      441.916229        29698  43.781776  36.241317    2019-11   \n",
       "4      441.916229        29709  43.781776  36.241317    2020-10   \n",
       "...           ...          ...        ...        ...        ...   \n",
       "22809  211.958817        31625  43.799922  36.024374    2021-10   \n",
       "22810  211.958817        31626  43.799922  36.024374    2021-11   \n",
       "22811  211.958817        31627  43.799922  36.024374    2021-12   \n",
       "22812  211.958817        31628  43.799922  36.024374    2022-01   \n",
       "22813  211.958817        31629  43.799922  36.024374    2022-02   \n",
       "\n",
       "       Optical_Depth_047  Optical_Depth_055                 Date  \\\n",
       "0             288.536585         213.317073  2019-07-01T00:00:00   \n",
       "1             202.415385         149.692308  2019-09-01T00:00:00   \n",
       "2             164.925000         121.975000  2019-10-01T00:00:00   \n",
       "3             114.725490          84.823529  2019-11-01T00:00:00   \n",
       "4             175.074074         129.462963  2020-10-01T00:00:00   \n",
       "...                  ...                ...                  ...   \n",
       "22809         144.604651         106.883721  2021-10-01T00:00:00   \n",
       "22810         124.611111          92.111111  2021-11-01T00:00:00   \n",
       "22811         120.307692          88.923077  2021-12-01T00:00:00   \n",
       "22812         180.607143         133.464286  2022-01-01T00:00:00   \n",
       "22813         162.731707         120.341463  2022-02-01T00:00:00   \n",
       "\n",
       "                                                geometry  \n",
       "0      MULTIPOLYGON (((43.78208 36.24139, 43.78208 36...  \n",
       "1      MULTIPOLYGON (((43.78208 36.24139, 43.78208 36...  \n",
       "2      MULTIPOLYGON (((43.78208 36.24139, 43.78208 36...  \n",
       "3      MULTIPOLYGON (((43.78208 36.24139, 43.78208 36...  \n",
       "4      MULTIPOLYGON (((43.78208 36.24139, 43.78208 36...  \n",
       "...                                                  ...  \n",
       "22809  MULTIPOLYGON (((43.79875 36.02403, 43.79875 36...  \n",
       "22810  MULTIPOLYGON (((43.79875 36.02403, 43.79875 36...  \n",
       "22811  MULTIPOLYGON (((43.79875 36.02403, 43.79875 36...  \n",
       "22812  MULTIPOLYGON (((43.79875 36.02403, 43.79875 36...  \n",
       "22813  MULTIPOLYGON (((43.79875 36.02403, 43.79875 36...  \n",
       "\n",
       "[22814 rows x 9 columns]"
      ]
     },
     "execution_count": 61,
     "metadata": {},
     "output_type": "execute_result"
    }
   ],
   "source": [
    "gwer_road_aod"
   ]
  },
  {
   "cell_type": "code",
   "execution_count": 71,
   "id": "9a6d5088",
   "metadata": {},
   "outputs": [],
   "source": [
    "gwer_road_mean_aod = gwer_road_aod.groupby([\"longitude\", \"latitude\", \"VALUE\"])[\"Optical_Depth_047\"].mean().reset_index()\n",
    "\n",
    "kalak_mean_aod = kalak_aod.groupby([\"longitude\", \"latitude\", \"VALUE\"])[\"Optical_Depth_047\"].mean().reset_index()\n",
    "\n",
    "lalish_mean_aod = lalish_aod.groupby([\"longitude\", \"latitude\", \"VALUE\"])[\"Optical_Depth_047\"].mean().reset_index()"
   ]
  },
  {
   "cell_type": "markdown",
   "id": "2cd1fcb7",
   "metadata": {},
   "source": [
    "Calculate the percentage of population exposed to rates of PM2.5 (using the AOD-> PM2.5 conversion) exceeding the WHO annual mean concentrations recommendations."
   ]
  },
  {
   "cell_type": "code",
   "execution_count": 65,
   "id": "f3c011d5",
   "metadata": {},
   "outputs": [],
   "source": [
    "gwer_road_harmful_aod = gwer_road_mean_aod[gwer_road_mean_aod[\"Optical_Depth_047\"]>175]\n",
    "kalak_harmful_aod = kalak_mean_aod[kalak_mean_aod[\"Optical_Depth_047\"]>175]\n",
    "lalish_harmful_aod = lalish_mean_aod[lalish_mean_aod [\"Optical_Depth_047\"]>175]"
   ]
  },
  {
   "cell_type": "code",
   "execution_count": 82,
   "id": "afd9c5d8",
   "metadata": {},
   "outputs": [
    {
     "data": {
      "text/plain": [
       "1.0"
      ]
     },
     "execution_count": 82,
     "metadata": {},
     "output_type": "execute_result"
    }
   ],
   "source": [
    "sum(gwer_road_harmful_aod[\"VALUE\"])/sum(gwer_road_mean_aod['VALUE'])"
   ]
  },
  {
   "cell_type": "code",
   "execution_count": 83,
   "id": "736d7442",
   "metadata": {},
   "outputs": [
    {
     "data": {
      "text/plain": [
       "1.0"
      ]
     },
     "execution_count": 83,
     "metadata": {},
     "output_type": "execute_result"
    }
   ],
   "source": [
    "sum(kalak_harmful_aod[\"VALUE\"])/sum(kalak_mean_aod['VALUE'])"
   ]
  },
  {
   "cell_type": "code",
   "execution_count": 81,
   "id": "9bdb1ee0",
   "metadata": {},
   "outputs": [
    {
     "data": {
      "text/plain": [
       "0.9951336173308959"
      ]
     },
     "execution_count": 81,
     "metadata": {},
     "output_type": "execute_result"
    }
   ],
   "source": [
    "sum(lalish_harmful_aod[\"VALUE\"])/sum(lalish_mean_aod['VALUE'])"
   ]
  },
  {
   "cell_type": "code",
   "execution_count": null,
   "id": "5bc3c7e9",
   "metadata": {},
   "outputs": [],
   "source": []
  }
 ],
 "metadata": {
  "kernelspec": {
   "display_name": "pollution_analysis",
   "language": "python",
   "name": "pollution_analysis"
  },
  "language_info": {
   "codemirror_mode": {
    "name": "ipython",
    "version": 3
   },
   "file_extension": ".py",
   "mimetype": "text/x-python",
   "name": "python",
   "nbconvert_exporter": "python",
   "pygments_lexer": "ipython3",
   "version": "3.8.8"
  }
 },
 "nbformat": 4,
 "nbformat_minor": 5
}
