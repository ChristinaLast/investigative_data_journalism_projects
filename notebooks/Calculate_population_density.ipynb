{
 "cells": [
  {
   "cell_type": "markdown",
   "id": "495d979c",
   "metadata": {},
   "source": [
    "# Calculating population density\n",
    "\n",
    "We want to know how many individuals are exposed to flares at each of the study regions.\n",
    "\n",
    "To do this we want to:\n",
    "- read in all population data from the study regions\n",
    "- calculate the total population density within each of the study regions\n",
    "-  using literatiure select an appropriate threshhold for AOD to use as a cutoff point for the \"high levels of pollution\"\n",
    "- from this calculate total no. of people and % of people in area affected by high levels of pollution"
   ]
  },
  {
   "cell_type": "code",
   "execution_count": 24,
   "id": "b8ab5941",
   "metadata": {},
   "outputs": [],
   "source": [
    "import os\n",
    "\n",
    "# Reading in all population data\n",
    "import geopandas as gpd\n",
    "base_dir = os.path.dirname(os.getcwd())"
   ]
  },
  {
   "cell_type": "code",
   "execution_count": 25,
   "id": "2eabc388",
   "metadata": {},
   "outputs": [],
   "source": [
    "gwer_road = gpd.read_file(f\"{base_dir}/pop_dens_data/polygon_geojson/POP_DEN_gwer_polygon.geojson\")\n",
    "kalak = gpd.read_file(f\"{base_dir}/pop_dens_data/polygon_geojson/POP_DEN_kalak_polygon.geojson\")\n",
    "lalish = gpd.read_file(f\"{base_dir}/pop_dens_data/polygon_geojson/POP_DEN_lalish_polygon.geojson\")"
   ]
  },
  {
   "cell_type": "code",
   "execution_count": 26,
   "id": "7e948c06",
   "metadata": {},
   "outputs": [
    {
     "data": {
      "text/html": [
       "<div>\n",
       "<style scoped>\n",
       "    .dataframe tbody tr th:only-of-type {\n",
       "        vertical-align: middle;\n",
       "    }\n",
       "\n",
       "    .dataframe tbody tr th {\n",
       "        vertical-align: top;\n",
       "    }\n",
       "\n",
       "    .dataframe thead th {\n",
       "        text-align: right;\n",
       "    }\n",
       "</style>\n",
       "<table border=\"1\" class=\"dataframe\">\n",
       "  <thead>\n",
       "    <tr style=\"text-align: right;\">\n",
       "      <th></th>\n",
       "      <th>VALUE</th>\n",
       "      <th>geometry</th>\n",
       "    </tr>\n",
       "  </thead>\n",
       "  <tbody>\n",
       "    <tr>\n",
       "      <th>0</th>\n",
       "      <td>441.916229</td>\n",
       "      <td>MULTIPOLYGON (((43.78208 36.24139, 43.78208 36...</td>\n",
       "    </tr>\n",
       "    <tr>\n",
       "      <th>1</th>\n",
       "      <td>419.327271</td>\n",
       "      <td>MULTIPOLYGON (((43.78547 36.24193, 43.78977 36...</td>\n",
       "    </tr>\n",
       "    <tr>\n",
       "      <th>2</th>\n",
       "      <td>511.886505</td>\n",
       "      <td>MULTIPOLYGON (((43.74875 36.23515, 43.74875 36...</td>\n",
       "    </tr>\n",
       "    <tr>\n",
       "      <th>3</th>\n",
       "      <td>441.208771</td>\n",
       "      <td>MULTIPOLYGON (((43.75148 36.23655, 43.75708 36...</td>\n",
       "    </tr>\n",
       "    <tr>\n",
       "      <th>4</th>\n",
       "      <td>245.390091</td>\n",
       "      <td>MULTIPOLYGON (((43.76542 36.23875, 43.76542 36...</td>\n",
       "    </tr>\n",
       "  </tbody>\n",
       "</table>\n",
       "</div>"
      ],
      "text/plain": [
       "        VALUE                                           geometry\n",
       "0  441.916229  MULTIPOLYGON (((43.78208 36.24139, 43.78208 36...\n",
       "1  419.327271  MULTIPOLYGON (((43.78547 36.24193, 43.78977 36...\n",
       "2  511.886505  MULTIPOLYGON (((43.74875 36.23515, 43.74875 36...\n",
       "3  441.208771  MULTIPOLYGON (((43.75148 36.23655, 43.75708 36...\n",
       "4  245.390091  MULTIPOLYGON (((43.76542 36.23875, 43.76542 36..."
      ]
     },
     "execution_count": 26,
     "metadata": {},
     "output_type": "execute_result"
    }
   ],
   "source": [
    "gwer_road.head()"
   ]
  },
  {
   "cell_type": "code",
   "execution_count": 39,
   "id": "e7c7279f",
   "metadata": {},
   "outputs": [
    {
     "data": {
      "text/plain": [
       "121183.42779943"
      ]
     },
     "execution_count": 39,
     "metadata": {},
     "output_type": "execute_result"
    }
   ],
   "source": [
    "sum(gwer_road[\"VALUE\"])"
   ]
  },
  {
   "cell_type": "code",
   "execution_count": 28,
   "id": "662d6ca9",
   "metadata": {},
   "outputs": [
    {
     "data": {
      "text/plain": [
       "121183.42779943"
      ]
     },
     "execution_count": 28,
     "metadata": {},
     "output_type": "execute_result"
    }
   ],
   "source": [
    "sum(gwer_road[\"VALUE\"])"
   ]
  },
  {
   "cell_type": "code",
   "execution_count": 29,
   "id": "94bea87f",
   "metadata": {},
   "outputs": [
    {
     "data": {
      "text/plain": [
       "219058.2630378402"
      ]
     },
     "execution_count": 29,
     "metadata": {},
     "output_type": "execute_result"
    }
   ],
   "source": [
    "sum(kalak[\"VALUE\"])"
   ]
  },
  {
   "cell_type": "code",
   "execution_count": 30,
   "id": "a52924d9",
   "metadata": {},
   "outputs": [
    {
     "data": {
      "text/plain": [
       "40925.76306725002"
      ]
     },
     "execution_count": 30,
     "metadata": {},
     "output_type": "execute_result"
    }
   ],
   "source": [
    "sum(lalish[\"VALUE\"])"
   ]
  },
  {
   "cell_type": "markdown",
   "id": "2ff34423",
   "metadata": {},
   "source": [
    "Next we want to read in the `AOD` data which quanitifies atmospheric haziness and gives us an idea of the level of pollution in the atmosphere.\n"
   ]
  },
  {
   "cell_type": "code",
   "execution_count": 31,
   "id": "fc285389",
   "metadata": {},
   "outputs": [],
   "source": [
    "gwer_road_aod = gpd.read_file(f\"{base_dir}/aod_data/aod_polygons/AOD_gwer_polygon.geojson\")\n",
    "kalak_aod = gpd.read_file(f\"{base_dir}/aod_data/aod_polygons/AOD_kalak_polygon.geojson\")\n",
    "lalish_aod = gpd.read_file(f\"{base_dir}/aod_data/aod_polygons/AOD_lalish_polygon.geojson\")"
   ]
  },
  {
   "cell_type": "markdown",
   "id": "fd131965",
   "metadata": {},
   "source": [
    "In order to understand the exposure to `AOD` we need to select the each time the `AOD` was above a specific threshhold each month."
   ]
  },
  {
   "cell_type": "code",
   "execution_count": 35,
   "id": "f3c011d5",
   "metadata": {},
   "outputs": [],
   "source": [
    "gwer_road_harmful_aod = gwer_road_aod[gwer_road_aod[\"Optical_Depth_047\"]>175]\n",
    "kalak_harmful_aod = kalak_aod[kalak_aod[\"Optical_Depth_047\"]>175]\n",
    "lalish_harmful_aod = lalish_aod[lalish_aod[\"Optical_Depth_047\"]>175]"
   ]
  },
  {
   "cell_type": "code",
   "execution_count": 36,
   "id": "736d7442",
   "metadata": {},
   "outputs": [
    {
     "data": {
      "text/plain": [
       "2947635.1810786836"
      ]
     },
     "execution_count": 36,
     "metadata": {},
     "output_type": "execute_result"
    }
   ],
   "source": [
    "sum(gwer_road_harmful_aod[\"VALUE\"])"
   ]
  },
  {
   "cell_type": "code",
   "execution_count": null,
   "id": "e500de65",
   "metadata": {},
   "outputs": [],
   "source": [
    "kalak_harmful_aod"
   ]
  }
 ],
 "metadata": {
  "kernelspec": {
   "display_name": "pollution_analysis",
   "language": "python",
   "name": "pollution_analysis"
  },
  "language_info": {
   "codemirror_mode": {
    "name": "ipython",
    "version": 3
   },
   "file_extension": ".py",
   "mimetype": "text/x-python",
   "name": "python",
   "nbconvert_exporter": "python",
   "pygments_lexer": "ipython3",
   "version": "3.8.8"
  }
 },
 "nbformat": 4,
 "nbformat_minor": 5
}
