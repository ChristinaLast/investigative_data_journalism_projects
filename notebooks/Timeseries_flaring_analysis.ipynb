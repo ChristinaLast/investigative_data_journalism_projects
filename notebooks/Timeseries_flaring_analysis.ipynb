{
 "cells": [
  {
   "cell_type": "markdown",
   "id": "ba6c9888",
   "metadata": {},
   "source": [
    "# Visualising flaring data in timeseries\n"
   ]
  },
  {
   "cell_type": "code",
   "execution_count": 4,
   "id": "936f784b",
   "metadata": {},
   "outputs": [],
   "source": [
    "import os\n",
    "\n",
    "import pandas as pd\n",
    "import statistics\n",
    "import geopandas as gpd\n",
    "from shapely import wkt\n",
    "import matplotlib.pyplot as plt\n",
    "import plotly.express as px\n",
    "import datetime\n",
    "import kaleido\n",
    "import plotly.graph_objects as go\n",
    "from plotly.subplots import make_subplots\n",
    "from pollution_analysis.src.utils.utils import read_csv\n",
    "\n",
    "base_dir = os.path.dirname(os.getcwd())"
   ]
  },
  {
   "cell_type": "markdown",
   "id": "a864119f",
   "metadata": {},
   "source": [
    "# Monthly count"
   ]
  },
  {
   "cell_type": "code",
   "execution_count": 6,
   "id": "fa8a7e0d",
   "metadata": {},
   "outputs": [],
   "source": [
    "# kuristan_faring_monthly_total = pd.read_csv(f\"{base_dir}/grouped_data/kurdistan_data/annual_flaring_count.csv\")\n",
    "# iraq_faring_monthly_total = pd.read_csv(f\"{base_dir}/grouped_data/all_data/annual_flaring_count.csv\")\n",
    "# russia_faring_monthly_total = pd.read_csv(f\"{base_dir}/summarised_data/russia_data/annual_flaring_count.csv\")\n",
    "# iraq_faring_monthly_total = pd.read_csv(f\"{base_dir}/summarised_data/iraq_processed_data/annual_flaring_count.csv\")\n",
    "algeria_faring_daily_total = pd.read_csv(f\"{base_dir}/grouped_data/algeria_data/2022/2022_total_flaring_count.csv\")"
   ]
  },
  {
   "cell_type": "code",
   "execution_count": 7,
   "id": "6fa68aef",
   "metadata": {},
   "outputs": [],
   "source": [
    "algeria_faring_daily_total.rename(\n",
    "    columns=({'Count': 'Algeria_count'}), \n",
    "    inplace=True,\n",
    ")"
   ]
  },
  {
   "cell_type": "code",
   "execution_count": null,
   "id": "d3345f65",
   "metadata": {},
   "outputs": [],
   "source": [
    "iraq_faring_monthly_total.rename(\n",
    "    columns=({'Count': 'Iraq_count'}), \n",
    "    inplace=True,\n",
    ")\n",
    "# kuristan_faring_monthly_total.rename(\n",
    "#     columns=({'Count': 'Kurdistan_count'}), \n",
    "#     inplace=True,\n",
    "# )\n",
    "russia_faring_monthly_total.rename(\n",
    "    columns=({'Count': 'Russia_count'}), \n",
    "    inplace=True,\n",
    ")"
   ]
  },
  {
   "cell_type": "code",
   "execution_count": null,
   "id": "763789a9",
   "metadata": {},
   "outputs": [],
   "source": [
    "iraq_kurdistan_faring_monthly_total = pd.merge(kuristan_faring_monthly_total, iraq_faring_monthly_total, on='Flaring_month')"
   ]
  },
  {
   "cell_type": "code",
   "execution_count": null,
   "id": "a24628d3",
   "metadata": {
    "scrolled": true
   },
   "outputs": [],
   "source": [
    "iraq_kurdistan_faring_monthly_total"
   ]
  },
  {
   "cell_type": "markdown",
   "id": "18dd0eff",
   "metadata": {},
   "source": [
    "# Weekly count"
   ]
  },
  {
   "cell_type": "code",
   "execution_count": null,
   "id": "fd00c482",
   "metadata": {},
   "outputs": [],
   "source": [
    "kuristan_faring_weekly_total = pd.read_csv(f\"{base_dir}/grouped_data/kurdistan_data/weekly_flaring_count.csv\")"
   ]
  },
  {
   "cell_type": "code",
   "execution_count": 12,
   "id": "9633ee62",
   "metadata": {},
   "outputs": [],
   "source": [
    "algeria_faring_daily_total\n",
    "algeria_faring_daily_total['Flaring_date'] = pd.to_datetime(algeria_faring_daily_total['Flaring_date'])\n",
    "algeria_faring_daily_total = algeria_faring_daily_total.sort_values(by='Flaring_date')\n"
   ]
  },
  {
   "cell_type": "code",
   "execution_count": 15,
   "id": "421b027e",
   "metadata": {},
   "outputs": [
    {
     "data": {
      "application/vnd.plotly.v1+json": {
       "config": {
        "plotlyServerURL": "https://plot.ly"
       },
       "data": [
        {
         "fill": "tozeroy",
         "line": {
          "color": "orange"
         },
         "mode": "lines",
         "name": "Daily count of flares Algeria",
         "type": "scatter",
         "x": [
          "2022-01-01T00:00:00",
          "2022-01-02T00:00:00",
          "2022-01-03T00:00:00",
          "2022-01-04T00:00:00",
          "2022-01-05T00:00:00",
          "2022-02-01T00:00:00",
          "2022-02-02T00:00:00",
          "2022-02-03T00:00:00",
          "2022-02-04T00:00:00",
          "2022-02-05T00:00:00",
          "2022-02-06T00:00:00",
          "2022-02-07T00:00:00",
          "2022-02-08T00:00:00",
          "2022-02-10T00:00:00",
          "2022-02-11T00:00:00",
          "2022-02-12T00:00:00",
          "2022-02-13T00:00:00",
          "2022-02-14T00:00:00",
          "2022-02-16T00:00:00",
          "2022-02-17T00:00:00",
          "2022-02-18T00:00:00",
          "2022-02-19T00:00:00",
          "2022-02-20T00:00:00",
          "2022-02-21T00:00:00",
          "2022-02-22T00:00:00",
          "2022-02-23T00:00:00",
          "2022-02-24T00:00:00",
          "2022-02-25T00:00:00",
          "2022-02-26T00:00:00",
          "2022-02-27T00:00:00",
          "2022-02-28T00:00:00",
          "2022-03-01T00:00:00",
          "2022-03-02T00:00:00",
          "2022-03-03T00:00:00",
          "2022-03-04T00:00:00",
          "2022-03-06T00:00:00",
          "2022-03-07T00:00:00",
          "2022-03-08T00:00:00",
          "2022-03-09T00:00:00",
          "2022-03-10T00:00:00",
          "2022-04-01T00:00:00",
          "2022-04-02T00:00:00",
          "2022-04-03T00:00:00",
          "2022-04-04T00:00:00",
          "2022-04-05T00:00:00",
          "2022-04-06T00:00:00",
          "2022-04-07T00:00:00",
          "2022-04-08T00:00:00",
          "2022-04-09T00:00:00",
          "2022-04-10T00:00:00",
          "2022-04-11T00:00:00",
          "2022-04-12T00:00:00",
          "2022-04-13T00:00:00",
          "2022-04-14T00:00:00",
          "2022-04-15T00:00:00",
          "2022-04-16T00:00:00",
          "2022-04-17T00:00:00",
          "2022-04-18T00:00:00",
          "2022-04-19T00:00:00",
          "2022-04-20T00:00:00",
          "2022-04-21T00:00:00",
          "2022-04-22T00:00:00",
          "2022-04-23T00:00:00",
          "2022-04-24T00:00:00",
          "2022-04-25T00:00:00",
          "2022-04-26T00:00:00",
          "2022-04-27T00:00:00",
          "2022-04-28T00:00:00",
          "2022-04-29T00:00:00",
          "2022-04-30T00:00:00",
          "2022-05-01T00:00:00",
          "2022-05-02T00:00:00",
          "2022-05-03T00:00:00",
          "2022-05-04T00:00:00",
          "2022-05-05T00:00:00",
          "2022-05-06T00:00:00",
          "2022-05-07T00:00:00",
          "2022-05-08T00:00:00",
          "2022-05-09T00:00:00",
          "2022-05-10T00:00:00",
          "2022-05-11T00:00:00",
          "2022-05-12T00:00:00",
          "2022-05-13T00:00:00",
          "2022-05-14T00:00:00",
          "2022-05-15T00:00:00",
          "2022-05-16T00:00:00",
          "2022-05-17T00:00:00",
          "2022-05-18T00:00:00",
          "2022-05-19T00:00:00",
          "2022-05-20T00:00:00",
          "2022-05-21T00:00:00",
          "2022-05-22T00:00:00",
          "2022-05-23T00:00:00",
          "2022-05-24T00:00:00",
          "2022-05-25T00:00:00",
          "2022-05-26T00:00:00",
          "2022-05-27T00:00:00",
          "2022-05-28T00:00:00",
          "2022-05-29T00:00:00",
          "2022-05-30T00:00:00",
          "2022-05-31T00:00:00",
          "2022-06-01T00:00:00",
          "2022-06-02T00:00:00",
          "2022-06-03T00:00:00",
          "2022-06-04T00:00:00",
          "2022-06-05T00:00:00",
          "2022-06-06T00:00:00",
          "2022-06-07T00:00:00",
          "2022-06-08T00:00:00",
          "2022-06-09T00:00:00",
          "2022-06-10T00:00:00",
          "2022-06-11T00:00:00",
          "2022-06-12T00:00:00",
          "2022-06-13T00:00:00",
          "2022-06-14T00:00:00",
          "2022-06-15T00:00:00",
          "2022-06-16T00:00:00",
          "2022-06-17T00:00:00",
          "2022-06-18T00:00:00",
          "2022-06-19T00:00:00",
          "2022-06-20T00:00:00",
          "2022-06-21T00:00:00",
          "2022-06-22T00:00:00",
          "2022-06-23T00:00:00",
          "2022-06-24T00:00:00",
          "2022-06-25T00:00:00",
          "2022-06-26T00:00:00",
          "2022-06-27T00:00:00",
          "2022-06-28T00:00:00",
          "2022-06-29T00:00:00",
          "2022-07-01T00:00:00",
          "2022-07-02T00:00:00",
          "2022-07-03T00:00:00",
          "2022-07-05T00:00:00",
          "2022-07-06T00:00:00",
          "2022-07-07T00:00:00",
          "2022-07-08T00:00:00",
          "2022-07-09T00:00:00",
          "2022-07-10T00:00:00",
          "2022-07-11T00:00:00",
          "2022-07-12T00:00:00",
          "2022-07-13T00:00:00",
          "2022-07-14T00:00:00",
          "2022-07-15T00:00:00",
          "2022-07-17T00:00:00",
          "2022-07-18T00:00:00",
          "2022-07-19T00:00:00",
          "2022-07-20T00:00:00",
          "2022-07-21T00:00:00",
          "2022-07-22T00:00:00",
          "2022-07-24T00:00:00",
          "2022-07-25T00:00:00",
          "2022-07-26T00:00:00",
          "2022-08-11T00:00:00",
          "2022-08-12T00:00:00",
          "2022-08-13T00:00:00",
          "2022-08-14T00:00:00",
          "2022-08-15T00:00:00",
          "2022-08-16T00:00:00",
          "2022-08-17T00:00:00",
          "2022-08-18T00:00:00",
          "2022-08-19T00:00:00",
          "2022-08-20T00:00:00",
          "2022-08-21T00:00:00",
          "2022-08-22T00:00:00",
          "2022-08-23T00:00:00",
          "2022-08-24T00:00:00",
          "2022-08-25T00:00:00",
          "2022-08-26T00:00:00",
          "2022-08-27T00:00:00",
          "2022-08-28T00:00:00",
          "2022-08-29T00:00:00",
          "2022-08-30T00:00:00",
          "2022-08-31T00:00:00",
          "2022-09-01T00:00:00",
          "2022-09-02T00:00:00",
          "2022-09-03T00:00:00",
          "2022-09-04T00:00:00",
          "2022-09-05T00:00:00",
          "2022-10-01T00:00:00",
          "2022-10-02T00:00:00",
          "2022-10-03T00:00:00",
          "2022-10-04T00:00:00",
          "2022-10-05T00:00:00",
          "2022-10-06T00:00:00",
          "2022-10-07T00:00:00",
          "2022-10-09T00:00:00",
          "2022-10-10T00:00:00",
          "2022-10-11T00:00:00",
          "2022-10-12T00:00:00",
          "2022-10-13T00:00:00",
          "2022-10-14T00:00:00",
          "2022-10-15T00:00:00",
          "2022-10-16T00:00:00",
          "2022-10-17T00:00:00",
          "2022-10-18T00:00:00",
          "2022-10-19T00:00:00",
          "2022-10-20T00:00:00",
          "2022-10-21T00:00:00",
          "2022-10-22T00:00:00",
          "2022-10-23T00:00:00",
          "2022-10-24T00:00:00",
          "2022-10-25T00:00:00",
          "2022-10-26T00:00:00",
          "2022-10-27T00:00:00",
          "2022-10-28T00:00:00",
          "2022-10-29T00:00:00",
          "2022-10-30T00:00:00",
          "2022-10-31T00:00:00",
          "2022-11-01T00:00:00",
          "2022-11-02T00:00:00",
          "2022-11-03T00:00:00",
          "2022-11-04T00:00:00",
          "2022-11-05T00:00:00",
          "2022-11-06T00:00:00",
          "2022-11-07T00:00:00",
          "2022-11-08T00:00:00",
          "2022-11-09T00:00:00",
          "2022-11-10T00:00:00",
          "2022-11-11T00:00:00",
          "2022-11-12T00:00:00",
          "2022-11-13T00:00:00",
          "2022-11-14T00:00:00",
          "2022-11-15T00:00:00",
          "2022-11-16T00:00:00",
          "2022-11-17T00:00:00",
          "2022-11-18T00:00:00",
          "2022-11-19T00:00:00",
          "2022-11-20T00:00:00",
          "2022-11-21T00:00:00",
          "2022-11-22T00:00:00",
          "2022-11-23T00:00:00",
          "2022-11-24T00:00:00",
          "2022-11-25T00:00:00"
         ],
         "xaxis": "x",
         "y": [
          768,
          933,
          586,
          481,
          510,
          879,
          1186,
          1043,
          564,
          459,
          609,
          952,
          1116,
          125,
          542,
          654,
          774,
          72,
          568,
          621,
          921,
          625,
          242,
          523,
          607,
          871,
          964,
          61,
          432,
          484,
          511,
          723,
          762,
          614,
          540,
          728,
          1326,
          667,
          552,
          708,
          881,
          1373,
          805,
          624,
          1087,
          801,
          1157,
          81,
          680,
          525,
          544,
          1401,
          1185,
          502,
          486,
          507,
          674,
          489,
          853,
          538,
          749,
          163,
          1398,
          2002,
          632,
          843,
          719,
          1038,
          1290,
          399,
          727,
          531,
          615,
          1043,
          992,
          527,
          495,
          680,
          1073,
          1018,
          508,
          488,
          621,
          876,
          1098,
          691,
          595,
          830,
          944,
          1211,
          718,
          474,
          546,
          850,
          1101,
          1124,
          515,
          435,
          567,
          40,
          1127,
          763,
          811,
          577,
          724,
          1267,
          797,
          534,
          936,
          1229,
          1018,
          974,
          434,
          442,
          614,
          851,
          1258,
          626,
          483,
          562,
          871,
          1176,
          783,
          305,
          14,
          680,
          1318,
          1124,
          705,
          574,
          1532,
          1509,
          919,
          1075,
          426,
          1311,
          1378,
          809,
          794,
          633,
          1222,
          1082,
          518,
          522,
          895,
          968,
          689,
          556,
          629,
          849,
          563,
          483,
          6,
          599,
          1207,
          1429,
          1258,
          1098,
          248,
          1062,
          256,
          2804,
          1008,
          808,
          838,
          1329,
          233,
          947,
          689,
          820,
          793,
          1320,
          1498,
          82,
          724,
          1301,
          1546,
          1461,
          865,
          428,
          789,
          1106,
          614,
          695,
          1074,
          718,
          810,
          701,
          927,
          1040,
          589,
          478,
          744,
          1028,
          984,
          389,
          518,
          493,
          817,
          1051,
          643,
          502,
          503,
          712,
          1018,
          835,
          439,
          459,
          631,
          872,
          1010,
          496,
          520,
          560,
          844,
          1027,
          566,
          572,
          12,
          661,
          785,
          722,
          425,
          445,
          651,
          550,
          1019,
          827,
          599,
          459,
          628,
          1111,
          571,
          467
         ],
         "yaxis": "y"
        }
       ],
       "layout": {
        "font": {
         "color": "#FFFFFF",
         "family": "Arial",
         "size": 24
        },
        "template": {
         "data": {
          "bar": [
           {
            "error_x": {
             "color": "#f2f5fa"
            },
            "error_y": {
             "color": "#f2f5fa"
            },
            "marker": {
             "line": {
              "color": "rgb(17,17,17)",
              "width": 0.5
             },
             "pattern": {
              "fillmode": "overlay",
              "size": 10,
              "solidity": 0.2
             }
            },
            "type": "bar"
           }
          ],
          "barpolar": [
           {
            "marker": {
             "line": {
              "color": "rgb(17,17,17)",
              "width": 0.5
             },
             "pattern": {
              "fillmode": "overlay",
              "size": 10,
              "solidity": 0.2
             }
            },
            "type": "barpolar"
           }
          ],
          "carpet": [
           {
            "aaxis": {
             "endlinecolor": "#A2B1C6",
             "gridcolor": "#506784",
             "linecolor": "#506784",
             "minorgridcolor": "#506784",
             "startlinecolor": "#A2B1C6"
            },
            "baxis": {
             "endlinecolor": "#A2B1C6",
             "gridcolor": "#506784",
             "linecolor": "#506784",
             "minorgridcolor": "#506784",
             "startlinecolor": "#A2B1C6"
            },
            "type": "carpet"
           }
          ],
          "choropleth": [
           {
            "colorbar": {
             "outlinewidth": 0,
             "ticks": ""
            },
            "type": "choropleth"
           }
          ],
          "contour": [
           {
            "colorbar": {
             "outlinewidth": 0,
             "ticks": ""
            },
            "colorscale": [
             [
              0,
              "#0d0887"
             ],
             [
              0.1111111111111111,
              "#46039f"
             ],
             [
              0.2222222222222222,
              "#7201a8"
             ],
             [
              0.3333333333333333,
              "#9c179e"
             ],
             [
              0.4444444444444444,
              "#bd3786"
             ],
             [
              0.5555555555555556,
              "#d8576b"
             ],
             [
              0.6666666666666666,
              "#ed7953"
             ],
             [
              0.7777777777777778,
              "#fb9f3a"
             ],
             [
              0.8888888888888888,
              "#fdca26"
             ],
             [
              1,
              "#f0f921"
             ]
            ],
            "type": "contour"
           }
          ],
          "contourcarpet": [
           {
            "colorbar": {
             "outlinewidth": 0,
             "ticks": ""
            },
            "type": "contourcarpet"
           }
          ],
          "heatmap": [
           {
            "colorbar": {
             "outlinewidth": 0,
             "ticks": ""
            },
            "colorscale": [
             [
              0,
              "#0d0887"
             ],
             [
              0.1111111111111111,
              "#46039f"
             ],
             [
              0.2222222222222222,
              "#7201a8"
             ],
             [
              0.3333333333333333,
              "#9c179e"
             ],
             [
              0.4444444444444444,
              "#bd3786"
             ],
             [
              0.5555555555555556,
              "#d8576b"
             ],
             [
              0.6666666666666666,
              "#ed7953"
             ],
             [
              0.7777777777777778,
              "#fb9f3a"
             ],
             [
              0.8888888888888888,
              "#fdca26"
             ],
             [
              1,
              "#f0f921"
             ]
            ],
            "type": "heatmap"
           }
          ],
          "heatmapgl": [
           {
            "colorbar": {
             "outlinewidth": 0,
             "ticks": ""
            },
            "colorscale": [
             [
              0,
              "#0d0887"
             ],
             [
              0.1111111111111111,
              "#46039f"
             ],
             [
              0.2222222222222222,
              "#7201a8"
             ],
             [
              0.3333333333333333,
              "#9c179e"
             ],
             [
              0.4444444444444444,
              "#bd3786"
             ],
             [
              0.5555555555555556,
              "#d8576b"
             ],
             [
              0.6666666666666666,
              "#ed7953"
             ],
             [
              0.7777777777777778,
              "#fb9f3a"
             ],
             [
              0.8888888888888888,
              "#fdca26"
             ],
             [
              1,
              "#f0f921"
             ]
            ],
            "type": "heatmapgl"
           }
          ],
          "histogram": [
           {
            "marker": {
             "pattern": {
              "fillmode": "overlay",
              "size": 10,
              "solidity": 0.2
             }
            },
            "type": "histogram"
           }
          ],
          "histogram2d": [
           {
            "colorbar": {
             "outlinewidth": 0,
             "ticks": ""
            },
            "colorscale": [
             [
              0,
              "#0d0887"
             ],
             [
              0.1111111111111111,
              "#46039f"
             ],
             [
              0.2222222222222222,
              "#7201a8"
             ],
             [
              0.3333333333333333,
              "#9c179e"
             ],
             [
              0.4444444444444444,
              "#bd3786"
             ],
             [
              0.5555555555555556,
              "#d8576b"
             ],
             [
              0.6666666666666666,
              "#ed7953"
             ],
             [
              0.7777777777777778,
              "#fb9f3a"
             ],
             [
              0.8888888888888888,
              "#fdca26"
             ],
             [
              1,
              "#f0f921"
             ]
            ],
            "type": "histogram2d"
           }
          ],
          "histogram2dcontour": [
           {
            "colorbar": {
             "outlinewidth": 0,
             "ticks": ""
            },
            "colorscale": [
             [
              0,
              "#0d0887"
             ],
             [
              0.1111111111111111,
              "#46039f"
             ],
             [
              0.2222222222222222,
              "#7201a8"
             ],
             [
              0.3333333333333333,
              "#9c179e"
             ],
             [
              0.4444444444444444,
              "#bd3786"
             ],
             [
              0.5555555555555556,
              "#d8576b"
             ],
             [
              0.6666666666666666,
              "#ed7953"
             ],
             [
              0.7777777777777778,
              "#fb9f3a"
             ],
             [
              0.8888888888888888,
              "#fdca26"
             ],
             [
              1,
              "#f0f921"
             ]
            ],
            "type": "histogram2dcontour"
           }
          ],
          "mesh3d": [
           {
            "colorbar": {
             "outlinewidth": 0,
             "ticks": ""
            },
            "type": "mesh3d"
           }
          ],
          "parcoords": [
           {
            "line": {
             "colorbar": {
              "outlinewidth": 0,
              "ticks": ""
             }
            },
            "type": "parcoords"
           }
          ],
          "pie": [
           {
            "automargin": true,
            "type": "pie"
           }
          ],
          "scatter": [
           {
            "marker": {
             "line": {
              "color": "#283442"
             }
            },
            "type": "scatter"
           }
          ],
          "scatter3d": [
           {
            "line": {
             "colorbar": {
              "outlinewidth": 0,
              "ticks": ""
             }
            },
            "marker": {
             "colorbar": {
              "outlinewidth": 0,
              "ticks": ""
             }
            },
            "type": "scatter3d"
           }
          ],
          "scattercarpet": [
           {
            "marker": {
             "colorbar": {
              "outlinewidth": 0,
              "ticks": ""
             }
            },
            "type": "scattercarpet"
           }
          ],
          "scattergeo": [
           {
            "marker": {
             "colorbar": {
              "outlinewidth": 0,
              "ticks": ""
             }
            },
            "type": "scattergeo"
           }
          ],
          "scattergl": [
           {
            "marker": {
             "line": {
              "color": "#283442"
             }
            },
            "type": "scattergl"
           }
          ],
          "scattermapbox": [
           {
            "marker": {
             "colorbar": {
              "outlinewidth": 0,
              "ticks": ""
             }
            },
            "type": "scattermapbox"
           }
          ],
          "scatterpolar": [
           {
            "marker": {
             "colorbar": {
              "outlinewidth": 0,
              "ticks": ""
             }
            },
            "type": "scatterpolar"
           }
          ],
          "scatterpolargl": [
           {
            "marker": {
             "colorbar": {
              "outlinewidth": 0,
              "ticks": ""
             }
            },
            "type": "scatterpolargl"
           }
          ],
          "scatterternary": [
           {
            "marker": {
             "colorbar": {
              "outlinewidth": 0,
              "ticks": ""
             }
            },
            "type": "scatterternary"
           }
          ],
          "surface": [
           {
            "colorbar": {
             "outlinewidth": 0,
             "ticks": ""
            },
            "colorscale": [
             [
              0,
              "#0d0887"
             ],
             [
              0.1111111111111111,
              "#46039f"
             ],
             [
              0.2222222222222222,
              "#7201a8"
             ],
             [
              0.3333333333333333,
              "#9c179e"
             ],
             [
              0.4444444444444444,
              "#bd3786"
             ],
             [
              0.5555555555555556,
              "#d8576b"
             ],
             [
              0.6666666666666666,
              "#ed7953"
             ],
             [
              0.7777777777777778,
              "#fb9f3a"
             ],
             [
              0.8888888888888888,
              "#fdca26"
             ],
             [
              1,
              "#f0f921"
             ]
            ],
            "type": "surface"
           }
          ],
          "table": [
           {
            "cells": {
             "fill": {
              "color": "#506784"
             },
             "line": {
              "color": "rgb(17,17,17)"
             }
            },
            "header": {
             "fill": {
              "color": "#2a3f5f"
             },
             "line": {
              "color": "rgb(17,17,17)"
             }
            },
            "type": "table"
           }
          ]
         },
         "layout": {
          "annotationdefaults": {
           "arrowcolor": "#f2f5fa",
           "arrowhead": 0,
           "arrowwidth": 1
          },
          "autotypenumbers": "strict",
          "coloraxis": {
           "colorbar": {
            "outlinewidth": 0,
            "ticks": ""
           }
          },
          "colorscale": {
           "diverging": [
            [
             0,
             "#8e0152"
            ],
            [
             0.1,
             "#c51b7d"
            ],
            [
             0.2,
             "#de77ae"
            ],
            [
             0.3,
             "#f1b6da"
            ],
            [
             0.4,
             "#fde0ef"
            ],
            [
             0.5,
             "#f7f7f7"
            ],
            [
             0.6,
             "#e6f5d0"
            ],
            [
             0.7,
             "#b8e186"
            ],
            [
             0.8,
             "#7fbc41"
            ],
            [
             0.9,
             "#4d9221"
            ],
            [
             1,
             "#276419"
            ]
           ],
           "sequential": [
            [
             0,
             "#0d0887"
            ],
            [
             0.1111111111111111,
             "#46039f"
            ],
            [
             0.2222222222222222,
             "#7201a8"
            ],
            [
             0.3333333333333333,
             "#9c179e"
            ],
            [
             0.4444444444444444,
             "#bd3786"
            ],
            [
             0.5555555555555556,
             "#d8576b"
            ],
            [
             0.6666666666666666,
             "#ed7953"
            ],
            [
             0.7777777777777778,
             "#fb9f3a"
            ],
            [
             0.8888888888888888,
             "#fdca26"
            ],
            [
             1,
             "#f0f921"
            ]
           ],
           "sequentialminus": [
            [
             0,
             "#0d0887"
            ],
            [
             0.1111111111111111,
             "#46039f"
            ],
            [
             0.2222222222222222,
             "#7201a8"
            ],
            [
             0.3333333333333333,
             "#9c179e"
            ],
            [
             0.4444444444444444,
             "#bd3786"
            ],
            [
             0.5555555555555556,
             "#d8576b"
            ],
            [
             0.6666666666666666,
             "#ed7953"
            ],
            [
             0.7777777777777778,
             "#fb9f3a"
            ],
            [
             0.8888888888888888,
             "#fdca26"
            ],
            [
             1,
             "#f0f921"
            ]
           ]
          },
          "colorway": [
           "#636efa",
           "#EF553B",
           "#00cc96",
           "#ab63fa",
           "#FFA15A",
           "#19d3f3",
           "#FF6692",
           "#B6E880",
           "#FF97FF",
           "#FECB52"
          ],
          "font": {
           "color": "#f2f5fa"
          },
          "geo": {
           "bgcolor": "rgb(17,17,17)",
           "lakecolor": "rgb(17,17,17)",
           "landcolor": "rgb(17,17,17)",
           "showlakes": true,
           "showland": true,
           "subunitcolor": "#506784"
          },
          "hoverlabel": {
           "align": "left"
          },
          "hovermode": "closest",
          "mapbox": {
           "style": "dark"
          },
          "paper_bgcolor": "rgb(17,17,17)",
          "plot_bgcolor": "rgb(17,17,17)",
          "polar": {
           "angularaxis": {
            "gridcolor": "#506784",
            "linecolor": "#506784",
            "ticks": ""
           },
           "bgcolor": "rgb(17,17,17)",
           "radialaxis": {
            "gridcolor": "#506784",
            "linecolor": "#506784",
            "ticks": ""
           }
          },
          "scene": {
           "xaxis": {
            "backgroundcolor": "rgb(17,17,17)",
            "gridcolor": "#506784",
            "gridwidth": 2,
            "linecolor": "#506784",
            "showbackground": true,
            "ticks": "",
            "zerolinecolor": "#C8D4E3"
           },
           "yaxis": {
            "backgroundcolor": "rgb(17,17,17)",
            "gridcolor": "#506784",
            "gridwidth": 2,
            "linecolor": "#506784",
            "showbackground": true,
            "ticks": "",
            "zerolinecolor": "#C8D4E3"
           },
           "zaxis": {
            "backgroundcolor": "rgb(17,17,17)",
            "gridcolor": "#506784",
            "gridwidth": 2,
            "linecolor": "#506784",
            "showbackground": true,
            "ticks": "",
            "zerolinecolor": "#C8D4E3"
           }
          },
          "shapedefaults": {
           "line": {
            "color": "#f2f5fa"
           }
          },
          "sliderdefaults": {
           "bgcolor": "#C8D4E3",
           "bordercolor": "rgb(17,17,17)",
           "borderwidth": 1,
           "tickwidth": 0
          },
          "ternary": {
           "aaxis": {
            "gridcolor": "#506784",
            "linecolor": "#506784",
            "ticks": ""
           },
           "baxis": {
            "gridcolor": "#506784",
            "linecolor": "#506784",
            "ticks": ""
           },
           "bgcolor": "rgb(17,17,17)",
           "caxis": {
            "gridcolor": "#506784",
            "linecolor": "#506784",
            "ticks": ""
           }
          },
          "title": {
           "x": 0.05
          },
          "updatemenudefaults": {
           "bgcolor": "#506784",
           "borderwidth": 0
          },
          "xaxis": {
           "automargin": true,
           "gridcolor": "#283442",
           "linecolor": "#506784",
           "ticks": "",
           "title": {
            "standoff": 15
           },
           "zerolinecolor": "#283442",
           "zerolinewidth": 2
          },
          "yaxis": {
           "automargin": true,
           "gridcolor": "#283442",
           "linecolor": "#506784",
           "ticks": "",
           "title": {
            "standoff": 15
           },
           "zerolinecolor": "#283442",
           "zerolinewidth": 2
          }
         }
        },
        "title": {
         "text": "Daily Count of flaring in the Algeria"
        },
        "xaxis": {
         "anchor": "y",
         "domain": [
          0,
          0.94
         ],
         "title": {
          "text": "Day"
         }
        },
        "yaxis": {
         "anchor": "x",
         "domain": [
          0,
          1
         ],
         "range": [
          0,
          2500
         ],
         "title": {
          "text": "Count"
         }
        },
        "yaxis2": {
         "anchor": "x",
         "overlaying": "y",
         "side": "right",
         "title": {
          "text": "<b>Algeria</b> daily flaring count"
         }
        }
       }
      }
     },
     "metadata": {},
     "output_type": "display_data"
    }
   ],
   "source": [
    "# Visualising monthly changes in flaring in kurdistan and Iraq\n",
    "\n",
    "# Create figure with secondary y-axis\n",
    "fig = make_subplots(specs=[[{\"secondary_y\": True}]])\n",
    "\n",
    "# Add traces\n",
    "# fig.add_trace(\n",
    "#     go.Scatter(x=iraq_kurdistan_faring_monthly_total['Flaring_month'], \n",
    "#                y=iraq_kurdistan_faring_monthly_total['Iraq_count'], \n",
    "#                name=\"Monthly count of flares Iraq\", \n",
    "#                fill=\"tozeroy\",\n",
    "#                mode=\"lines\",\n",
    "#                line=dict(color=\"crimson\")),\n",
    "#     secondary_y=False,\n",
    "# )\n",
    "\n",
    "fig.add_trace(\n",
    "    go.Scatter(x=algeria_faring_daily_total['Flaring_date'],\n",
    "               y=algeria_faring_daily_total['Algeria_count'], \n",
    "               name=\"Daily count of flares Algeria\", \n",
    "               fill=\"tozeroy\",\n",
    "               mode=\"lines\",\n",
    "               line=dict(color=\"orange\")),\n",
    "    secondary_y=False,\n",
    ")\n",
    "\n",
    "# Add figure title\n",
    "fig.update_layout(\n",
    "    title_text=\"Daily Count of flaring in the Algeria\",\n",
    "    template=\"plotly_dark\",\n",
    "    font=dict(\n",
    "            family=\"Arial\",\n",
    "            size=24,\n",
    "            color='#FFFFFF'\n",
    "        )\n",
    ")\n",
    "\n",
    "# Set x-axis title\n",
    "fig.update_xaxes(title_text=\"Day\")\n",
    "# fig.update_yaxes(range=[0,60000], secondary_y=False)\n",
    "fig.update_yaxes(title_text=\"Count\", range=[0,2500], secondary_y=False)\n",
    "\n",
    "# fig.add_vline(x=datetime.datetime.strptime(\"2021-07-13\", \"%Y-%m-%d\").timestamp() * 1000, annotation_text=\"Start date for  <br> flaring phase-out\" )\n",
    "\n",
    "# Set y-axes titles\n",
    "# fig.update_yaxes(title_text=\"<b>Iraqi</b> flaring count\", secondary_y=False)\n",
    "fig.update_yaxes(title_text=\"<b>Algeria</b> daily flaring count\", secondary_y=True)\n",
    "fig.write_html(\"plots/Algeria_daily_flaring.html\")\n",
    "fig.write_image(\"plots/algeria_timeseries_weekly.png\", width=1980, height=1080)\n",
    "\n",
    "fig.show()"
   ]
  },
  {
   "cell_type": "code",
   "execution_count": null,
   "id": "f5a8d287",
   "metadata": {
    "scrolled": true
   },
   "outputs": [],
   "source": [
    "iraq_kurdistan_russia_faring_monthly_total = pd.merge(iraq_kurdistan_faring_monthly_total, russia_faring_monthly_total, on='Flaring_month')\n"
   ]
  },
  {
   "cell_type": "code",
   "execution_count": null,
   "id": "04f343c9",
   "metadata": {
    "scrolled": true
   },
   "outputs": [],
   "source": [
    "iraq_kurdistan_russia_faring_monthly_total"
   ]
  },
  {
   "cell_type": "code",
   "execution_count": null,
   "id": "460992f8",
   "metadata": {},
   "outputs": [],
   "source": [
    "# Visualising monthly changes in flaring in kurdistan and Iraq\n",
    "\n",
    "# Create figure with secondary y-axis\n",
    "fig = make_subplots(specs=[[{\"secondary_y\": True}]])\n",
    "\n",
    "# Add traces\n",
    "fig.add_trace(\n",
    "    go.Scatter(x=iraq_kurdistan_faring_monthly_total['Flaring_month'], \n",
    "               y=iraq_kurdistan_faring_monthly_total['Iraq_count'], \n",
    "               name=\"Monthly count of flares Iraq\", \n",
    "               fill=\"tozeroy\",\n",
    "               mode=\"lines\",\n",
    "               line=dict(color=\"crimson\")),\n",
    "    secondary_y=False,\n",
    ")\n",
    "\n",
    "fig.add_trace(\n",
    "    go.Scatter(x=iraq_kurdistan_faring_monthly_total['Flaring_month'],\n",
    "               y=iraq_kurdistan_faring_monthly_total['Kurdistan_count'], \n",
    "               name=\"Monthly count of flares Kurdistan\", \n",
    "               fill=\"tozeroy\",\n",
    "               mode=\"lines\",\n",
    "               line=dict(color=\"orange\")),\n",
    "    secondary_y=True,\n",
    ")\n",
    "\n",
    "# Add figure title\n",
    "fig.update_layout(\n",
    "    title_text=\"Count of flaring in Iraq and Kurdistan\",\n",
    "    template=\"plotly_dark\",\n",
    "    font=dict(\n",
    "            family=\"Arial\",\n",
    "            size=24,\n",
    "            color='#FFFFFF'\n",
    "        )\n",
    ")\n",
    "\n",
    "# Set x-axis title\n",
    "fig.update_xaxes(title_text=\"Month\")\n",
    "fig.update_yaxes(range=[0,60000], secondary_y=False)\n",
    "fig.update_yaxes(range=[0,20000], secondary_y=True)\n",
    "\n",
    "fig.add_vline(x=datetime.datetime.strptime(\"2021-07-13\", \"%Y-%m-%d\").timestamp() * 1000, annotation_text=\"Start date for  <br> flaring phase-out\" )\n",
    "\n",
    "# Set y-axes titles\n",
    "fig.update_yaxes(title_text=\"<b>Iraqi</b> flaring count\", secondary_y=False)\n",
    "fig.update_yaxes(title_text=\"<b>Kurdistani</b> flaring count\", secondary_y=True)\n",
    "fig.write_html(\"plots/iraq_kurdistan_timeseries.html\")\n",
    "fig.write_image(\"plots/iraq_kurdistan_timeseries.png\", width=1980, height=1080)\n",
    "\n",
    "fig.show()"
   ]
  },
  {
   "cell_type": "code",
   "execution_count": null,
   "id": "28bacb07",
   "metadata": {},
   "outputs": [],
   "source": [
    "# Visualising monthly changes in flaring in kurdistan and Iraq\n",
    "\n",
    "# Create figure with secondary y-axis\n",
    "fig = make_subplots(specs=[[{\"secondary_y\": True}]])\n",
    "\n",
    "# Add traces\n",
    "# fig.add_trace(\n",
    "#     go.Scatter(x=iraq_kurdistan_faring_monthly_total['Flaring_month'], \n",
    "#                y=iraq_kurdistan_faring_monthly_total['Iraq_count'], \n",
    "#                name=\"Monthly count of flares Iraq\", \n",
    "#                fill=\"tozeroy\",\n",
    "#                mode=\"lines\",\n",
    "#                line=dict(color=\"crimson\")),\n",
    "#     secondary_y=False,\n",
    "# )\n",
    "\n",
    "fig.add_trace(\n",
    "    go.Scatter(x=iraq_kurdistan_faring_monthly_total['Flaring_month'],\n",
    "               y=iraq_kurdistan_faring_monthly_total['Kurdistan_count'], \n",
    "               name=\"Monthly count of flares Kurdistan\", \n",
    "               fill=\"tozeroy\",\n",
    "               mode=\"lines\",\n",
    "               line=dict(color=\"orange\")),\n",
    "    secondary_y=False,\n",
    ")\n",
    "\n",
    "# Add figure title\n",
    "fig.update_layout(\n",
    "    title_text=\"Count of flaring in Kurdistan\",\n",
    "    template=\"plotly_dark\",\n",
    "    font=dict(\n",
    "            family=\"Arial\",\n",
    "            size=24,\n",
    "            color='#FFFFFF'\n",
    "        )\n",
    ")\n",
    "\n",
    "# Set x-axis title\n",
    "fig.update_xaxes(title_text=\"Month\")\n",
    "# fig.update_yaxes(range=[0,60000], secondary_y=False)\n",
    "fig.update_yaxes(title_text=\"Count\", range=[0,10000], secondary_y=False)\n",
    "\n",
    "fig.add_vline(x=datetime.datetime.strptime(\"2021-07-13\", \"%Y-%m-%d\").timestamp() * 1000, annotation_text=\"Start date for  <br> flaring phase-out\" )\n",
    "\n",
    "# Set y-axes titles\n",
    "# fig.update_yaxes(title_text=\"<b>Iraqi</b> flaring count\", secondary_y=False)\n",
    "fig.update_yaxes(title_text=\"<b>Kurdistani</b> flaring count\", secondary_y=True)\n",
    "fig.write_html(\"plots/kurdistan_timeseries.html\")\n",
    "fig.write_image(\"plots/kurdistan_timeseries.png\", width=1980, height=1080)\n",
    "\n",
    "fig.show()"
   ]
  },
  {
   "cell_type": "code",
   "execution_count": null,
   "id": "83beb370",
   "metadata": {
    "scrolled": true
   },
   "outputs": [],
   "source": [
    "# Visualising monthly changes in flaring in kurdistan and Iraq\n",
    "\n",
    "# Create figure with secondary y-axis\n",
    "fig = make_subplots()\n",
    "\n",
    "# Add traces\n",
    "fig.add_trace(\n",
    "    go.Scatter(x=iraq_kurdistan_russia_faring_monthly_total['Flaring_month'], y=iraq_kurdistan_russia_faring_monthly_total['Iraq_count'], name=\"Monthly count of flares Iraq\"),\n",
    "    secondary_y=False,\n",
    ")\n",
    "\n",
    "fig.add_trace(\n",
    "    go.Scatter(x=iraq_kurdistan_russia_faring_monthly_total['Flaring_month'], y=iraq_kurdistan_russia_faring_monthly_total['Kurdistan_count'], name=\"Monthly count of flares Kurdistan\"),\n",
    "    secondary_y=False,\n",
    ")\n",
    "\n",
    "fig.add_trace(\n",
    "    go.Scatter(x=iraq_kurdistan_russia_faring_monthly_total['Flaring_month'], y=iraq_kurdistan_russia_faring_monthly_total['Russia_count'], name=\"Monthly count of flares Russia\"),\n",
    "    secondary_y=False,\n",
    ")\n",
    "\n",
    "# Add figure title\n",
    "fig.update_layout(\n",
    "    title_text=\"Count of flaring in Iraq, Russia and Kurdistan \"\n",
    ")\n",
    "\n",
    "# Set x-axis title\n",
    "fig.update_xaxes(title_text=\"Month\")\n",
    "fig.update_yaxes(title_text=\"Monthly flaring count\", secondary_y=False)\n",
    "fig.write_html(\"plots/iraq_kurdistan_russia_timeseries.html\")\n",
    "\n",
    "fig.show()"
   ]
  },
  {
   "cell_type": "code",
   "execution_count": null,
   "id": "d1b04e91",
   "metadata": {},
   "outputs": [],
   "source": [
    "russia_faring_monthly_total"
   ]
  },
  {
   "cell_type": "code",
   "execution_count": null,
   "id": "5ce56f1b",
   "metadata": {},
   "outputs": [],
   "source": [
    "# Visualising monthly changes in flaring in Russia\n",
    "\n",
    "\n",
    "fig = make_subplots()\n",
    "\n",
    "fig.add_trace(\n",
    "    go.Scatter(x=russia_faring_monthly_total['Flaring_month'],\n",
    "               y=russia_faring_monthly_total['Russia_count'], \n",
    "               name=\"Monthly count of flares Russia\", \n",
    "               fill=\"tozeroy\",\n",
    "               mode=\"lines\",\n",
    "               line=dict(color=\"purple\")),\n",
    "    secondary_y=False,\n",
    ")\n",
    "\n",
    "# Add figure title\n",
    "fig.update_layout(\n",
    "    title_text=\"Count of flaring in Russia\",\n",
    "    template=\"plotly_dark\",\n",
    "    font=dict(\n",
    "            family=\"Arial\",\n",
    "            size=24,\n",
    "            color='#FFFFFF'\n",
    "        )\n",
    ")\n",
    "\n",
    "# Set x-axis title\n",
    "fig.update_xaxes(title_text=\"Month\")\n",
    "# fig.update_yaxes(range=[0,60000], secondary_y=False)\n",
    "fig.update_yaxes(title_text=\"Count\", range=[0,280000], secondary_y=False)\n",
    "\n",
    "\n",
    "# Set y-axes titles\n",
    "# fig.update_yaxes(title_text=\"<b>Iraqi</b> flaring count\", secondary_y=False)\n",
    "fig.update_yaxes(title_text=\"<b>Russia</b> flaring count\", secondary_y=True)\n",
    "fig.write_html(\"plots/russia_timeseries.html\")\n",
    "fig.write_image(\"plots/russia_timeseries.png\", width=1980, height=1080)\n",
    "\n",
    "fig.show()"
   ]
  },
  {
   "cell_type": "code",
   "execution_count": null,
   "id": "07ad2023",
   "metadata": {},
   "outputs": [],
   "source": [
    "# iraq_data_dir = f\"{base_dir}/summarised_data/iraq_processed_data\"\n",
    "kurdistan_data_dir = f\"{base_dir}/grouped_data/kurdistan_data\"\n",
    "# russia_data_dir = f\"{base_dir}/summarised_data/russia_processed_data\"\n",
    "\n",
    "def create_flaring_by_date_df(data_dir):\n",
    "    df_list = []\n",
    "    for dirname,  _, filelist in os.walk(data_dir):\n",
    "        not_wanted_filenames = [\"annual_flaring_count.csv\"]\n",
    "\n",
    "        flaring_filepaths = [\n",
    "            os.path.join(dirname, filename) for filename in filelist\n",
    "            if not any(filetype in filename for filetype in not_wanted_filenames)\n",
    "        ]\n",
    "\n",
    "        for filename in flaring_filepaths:\n",
    "            flaring_by_date = pd.read_csv(os.path.join(dirname, filename), encoding= 'unicode_escape')\n",
    "\n",
    "            df_list.append(flaring_by_date)\n",
    "    return df_list\n",
    "\n",
    "kurdistan_total_flaring_by_date = pd.concat(create_flaring_by_date_df(kurdistan_data_dir))   \n",
    "# iraq_total_flaring_by_date = pd.concat(create_flaring_by_date_df(iraq_data_dir))   \n",
    "# russia_total_flaring_by_date = pd.concat(create_flaring_by_date_df(russia_data_dir))   \n"
   ]
  },
  {
   "cell_type": "code",
   "execution_count": null,
   "id": "d63cf01f",
   "metadata": {},
   "outputs": [],
   "source": [
    "kurdistan_total_flaring_by_date = kurdistan_total_flaring_by_date.sort_values(by=\"Flaring_date\")\n",
    "# iraq_total_flaring_by_date = iraq_total_flaring_by_date.sort_values(by=\"Flaring_date\")\n",
    "# russia_total_flaring_by_date = russia_total_flaring_by_date.sort_values(by=\"Flaring_date\")\n"
   ]
  },
  {
   "cell_type": "markdown",
   "id": "ac2624cb",
   "metadata": {},
   "source": [
    "# Visualising date changes in flaring in kurdistan and Iraq\n"
   ]
  },
  {
   "cell_type": "code",
   "execution_count": null,
   "id": "574238db",
   "metadata": {
    "scrolled": true
   },
   "outputs": [],
   "source": [
    "# Visualising date changes in flaring in kurdistan and Iraq\n",
    "\n",
    "# Create figure with secondary y-axis\n",
    "fig = make_subplots(specs=[[{\"secondary_y\": True}]])\n",
    "\n",
    "fig.add_trace(\n",
    "    go.Scatter(x=iraq_total_flaring_by_date['Flaring_date'], y=iraq_total_flaring_by_date['Count'], name=\"Count of flares Iraq\", opacity=0.5),\n",
    "    secondary_y=True,\n",
    ")\n",
    "\n",
    "# Add traces\n",
    "fig.add_trace(\n",
    "    go.Scatter(x=kurdistan_total_flaring_by_date['Flaring_date'], y=kurdistan_total_flaring_by_date['Count'], name=\"Count of flares Kurdistan\", opacity=0.5\n",
    "               ,\n",
    "              ),\n",
    "    secondary_y=False, \n",
    ")\n",
    "\n",
    "# Add figure title\n",
    "fig.update_layout(\n",
    "    title_text=\"Count of flaring in Iraq and Kurdistan\"\n",
    ")\n",
    "fig.add_vline(x=datetime.datetime.strptime(\"2021-07-13\", \"%Y-%m-%d\").timestamp() * 1000, annotation_text=\"Start date for  <br> flaring phase-out\" )\n",
    "\n",
    "# Set x-axis title\n",
    "fig.update_xaxes(title_text=\"Date\")\n",
    "\n",
    "# Set y-axes titles\n",
    "fig.update_yaxes(title_text=\"<b>Kurdistani</b> flaring count\", secondary_y=False)\n",
    "fig.update_yaxes(title_text=\"<b>Iraqi</b> flaring count\", secondary_y=True)\n",
    "fig.write_html(\"plots/iraq_kurdistan_date_timeseries.html\")\n",
    "\n",
    "fig.show()"
   ]
  },
  {
   "cell_type": "code",
   "execution_count": null,
   "id": "9c92a6c6",
   "metadata": {},
   "outputs": [],
   "source": [
    "kurdistan_total_flaring_by_date"
   ]
  },
  {
   "cell_type": "code",
   "execution_count": null,
   "id": "cd1cc91d",
   "metadata": {},
   "outputs": [],
   "source": [
    "# Create figure with secondary y-axis\n",
    "fig = make_subplots(specs=[[{\"secondary_y\": True}]])\n",
    "\n",
    "# Add traces\n",
    "# fig.add_trace(\n",
    "#     go.Scatter(x=iraq_kurdistan_faring_monthly_total['Flaring_month'], \n",
    "#                y=iraq_kurdistan_faring_monthly_total['Iraq_count'], \n",
    "#                name=\"Monthly count of flares Iraq\", \n",
    "#                fill=\"tozeroy\",\n",
    "#                mode=\"lines\",\n",
    "#                line=dict(color=\"crimson\")),\n",
    "#     secondary_y=False,\n",
    "# )\n",
    "\n",
    "fig.add_trace(\n",
    "    go.Scatter(x=kurdistan_total_flaring_by_date['Flaring_date'],\n",
    "               y=kurdistan_total_flaring_by_date['Count'], \n",
    "               name=\"Monthly count of flares Kurdistan\", \n",
    "               fill=\"tozeroy\",\n",
    "               mode=\"lines\",\n",
    "               line=dict(color=\"orange\")),\n",
    "    secondary_y=False,\n",
    ")\n",
    "\n",
    "# Add figure title\n",
    "fig.update_layout(\n",
    "    title_text=\"Count of flaring in Kurdistan\",\n",
    "    template=\"plotly_dark\",\n",
    "    font=dict(\n",
    "            family=\"Arial\",\n",
    "            size=24,\n",
    "            color='#FFFFFF'\n",
    "        )\n",
    ")\n",
    "\n",
    "# Set x-axis title\n",
    "fig.update_xaxes(title_text=\"Date\")\n",
    "# fig.update_yaxes(range=[0,60000], secondary_y=False)\n",
    "fig.update_yaxes(title_text=\"Count\", range=[0,800], secondary_y=False)\n",
    "\n",
    "fig.add_vline(x=datetime.datetime.strptime(\"2021-07-13\", \"%Y-%m-%d\").timestamp() * 1000, annotation_text=\"Start date for  <br> flaring phase-out\" )\n",
    "\n",
    "# Set y-axes titles\n",
    "# fig.update_yaxes(title_text=\"<b>Iraqi</b> flaring count\", secondary_y=False)\n",
    "fig.update_yaxes(title_text=\"<b>Kurdistani</b> flaring count\", secondary_y=True)\n",
    "fig.write_html(\"plots/kurdistan_timeseries_date.html\")\n",
    "fig.write_image(\"plots/kurdistan_timeseries_date.png\", width=1980, height=1080)\n",
    "\n",
    "fig.show()"
   ]
  },
  {
   "cell_type": "code",
   "execution_count": null,
   "id": "55fa561e",
   "metadata": {},
   "outputs": [],
   "source": [
    "# Visualising monthly changes in flaring in kurdistan and Iraq\n",
    "\n",
    "# Create figure with secondary y-axis\n",
    "fig = make_subplots()\n",
    "\n",
    "fig.add_trace(\n",
    "    go.Scatter(x=iraq_total_flaring_by_date['Flaring_date'], y=iraq_total_flaring_by_date['Count'], name=\"Count of flares Iraq\", opacity=0.5),\n",
    "    secondary_y=False,\n",
    ")\n",
    "\n",
    "# Add traces\n",
    "fig.add_trace(\n",
    "    go.Scatter(x=kurdistan_total_flaring_by_date['Flaring_date'], y=kurdistan_total_flaring_by_date['Count'], name=\"Count of flares Kurdistan\", opacity=0.5\n",
    "               ,\n",
    "              ),\n",
    "    secondary_y=False, \n",
    ")\n",
    "# Add traces\n",
    "fig.add_trace(\n",
    "    go.Scatter(x=russia_total_flaring_by_date['Flaring_date'], y=russia_total_flaring_by_date['Count'], name=\"Count of flares Russia\", opacity=0.5\n",
    "               ,\n",
    "              ),\n",
    "    secondary_y=False, \n",
    ")\n",
    "\n",
    "\n",
    "# Add figure title\n",
    "fig.update_layout(\n",
    "    title_text=\"Count of flaring in Iraq and Kurdistan\"\n",
    ")\n",
    "\n",
    "# Set x-axis title\n",
    "fig.update_xaxes(title_text=\"Date\")\n",
    "\n",
    "# Set y-axes titles\n",
    "fig.update_yaxes(title_text=\"Flaring count by date\")\n",
    "\n",
    "fig.show()"
   ]
  },
  {
   "cell_type": "markdown",
   "id": "e4fbb2d8",
   "metadata": {},
   "source": [
    "# Visualising weekly average flaring counts"
   ]
  },
  {
   "cell_type": "code",
   "execution_count": null,
   "id": "5bb83926",
   "metadata": {},
   "outputs": [],
   "source": [
    "# iraq_data_dir = f\"{base_dir}/summarised_data/iraq_processed_data\"\n",
    "kurdistan_data_dir = f\"{base_dir}/grouped_data/kurdistan_data\"\n",
    "# russia_data_dir = f\"{base_dir}/summarised_data/russia_processed_data\"\n",
    "\n",
    "def create_flaring_by_week_df(data_dir):\n",
    "    df_list = []\n",
    "    for dirname,  _, filelist in os.walk(data_dir):\n",
    "        not_wanted_filenames = [\"annual_flaring_count.csv\"]\n",
    "\n",
    "        flaring_filepaths = [\n",
    "            os.path.join(dirname, filename) for filename in filelist\n",
    "            if not any(filetype in filename for filetype in not_wanted_filenames)\n",
    "        ]\n",
    "\n",
    "        for filename in flaring_filepaths:\n",
    "            flaring_by_date = pd.read_csv(os.path.join(dirname, filename), encoding= 'unicode_escape')\n",
    "\n",
    "            df_list.append(flaring_by_date)\n",
    "    return df_list\n",
    "\n",
    "kurdistan_total_flaring_by_date = pd.concat(create_flaring_by_date_df(kurdistan_data_dir))   \n",
    "# iraq_total_flaring_by_date = pd.concat(create_flaring_by_date_df(iraq_data_dir))   \n",
    "# russia_total_flaring_by_date = pd.concat(create_flaring_by_date_df(russia_data_dir))   \n"
   ]
  }
 ],
 "metadata": {
  "kernelspec": {
   "display_name": "Python 3.8.0 ('pollution-analysis-KFg78m3I-py3.8')",
   "language": "python",
   "name": "python3"
  },
  "language_info": {
   "codemirror_mode": {
    "name": "ipython",
    "version": 3
   },
   "file_extension": ".py",
   "mimetype": "text/x-python",
   "name": "python",
   "nbconvert_exporter": "python",
   "pygments_lexer": "ipython3",
   "version": "3.8.0"
  },
  "vscode": {
   "interpreter": {
    "hash": "845623cdbed99a10825f9c2e499fdd1948c81afcb666c26419ebc8483644992d"
   }
  }
 },
 "nbformat": 4,
 "nbformat_minor": 5
}
